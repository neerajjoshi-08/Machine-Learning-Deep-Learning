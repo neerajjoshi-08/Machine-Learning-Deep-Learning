{
 "cells": [
  {
   "cell_type": "code",
   "execution_count": 1,
   "metadata": {},
   "outputs": [],
   "source": [
    "import numpy as np\n",
    "import pandas as pd\n",
    "from sklearn import tree\n",
    "\n",
    "from IPython.display import Image\n",
    "from sklearn.externals.six import StringIO\n",
    "import pydotplus\n",
    "from graphviz import Digraph\n"
   ]
  },
  {
   "cell_type": "code",
   "execution_count": 2,
   "metadata": {},
   "outputs": [
    {
     "name": "stdout",
     "output_type": "stream",
     "text": [
      "   Years Experience Employed?  Previous employers Level of Education  \\\n",
      "0                10         Y                   4                 BS   \n",
      "1                 0         N                   0                 BS   \n",
      "2                 7         N                   6                 BS   \n",
      "3                 2         Y                   1                 MS   \n",
      "4                20         N                   2                PhD   \n",
      "\n",
      "  Top-tier school Interned Hired  \n",
      "0               N        N     Y  \n",
      "1               Y        Y     Y  \n",
      "2               N        N     N  \n",
      "3               Y        N     Y  \n",
      "4               Y        N     N  \n",
      "   Years Experience  Employed?  Previous employers  Level of Education  \\\n",
      "0                10          1                   4                   0   \n",
      "1                 0          0                   0                   0   \n",
      "2                 7          0                   6                   0   \n",
      "3                 2          1                   1                   1   \n",
      "4                20          0                   2                   2   \n",
      "\n",
      "   Top-tier school  Interned  Hired  \n",
      "0                0         0      1  \n",
      "1                1         1      1  \n",
      "2                0         0      0  \n",
      "3                1         0      1  \n",
      "4                1         0      0  \n",
      "Creating graph...\n",
      "[1]\n",
      "[0]\n"
     ]
    }
   ],
   "source": [
    "input_file = \"Past_Hires.csv\"\n",
    "df = pd.read_csv(input_file, header = 0)\n",
    "print(df.head())\n",
    "d = {'Y': 1, 'N': 0}\n",
    "df['Hired'] = df['Hired'].map(d)\n",
    "df['Employed?'] = df['Employed?'].map(d)\n",
    "df['Top-tier school'] = df['Top-tier school'].map(d)\n",
    "df['Interned'] = df['Interned'].map(d)\n",
    "d = {'BS': 0, 'MS': 1, 'PhD': 2}\n",
    "df['Level of Education'] = df['Level of Education'].map(d)\n",
    "print(df.head())\n",
    "\n",
    "features = list(df.columns[:6])\n",
    "features\n",
    "\n",
    "y = df[\"Hired\"]\n",
    "X = df[features]\n",
    "clf = tree.DecisionTreeClassifier()\n",
    "clf = clf.fit(X,y)\n",
    "\n",
    "dot_data = StringIO()\n",
    "tree.export_graphviz(clf,out_file = dot_data, feature_names = features)\n",
    "graph = pydotplus.graph_from_dot_data(dot_data.getvalue())\n",
    "\n",
    "print(\"Creating graph...\")\n",
    "graph.write_png('abc.png')\n",
    "\n",
    "\n",
    "\n",
    "from sklearn.ensemble import RandomForestClassifier\n",
    "\n",
    "clf = RandomForestClassifier(n_estimators=10)\n",
    "clf = clf.fit(X, y)\n",
    "\n"
   ]
  },
  {
   "cell_type": "code",
   "execution_count": 3,
   "metadata": {},
   "outputs": [
    {
     "name": "stdout",
     "output_type": "stream",
     "text": [
      "[1]\n",
      "[0]\n"
     ]
    }
   ],
   "source": [
    "print (clf.predict([[10, 1, 4, 0, 0, 0]]))\n",
    "#...and an unemployed 10-year veteran\n",
    "print (clf.predict([[10, 0, 4, 0, 0, 0]]))"
   ]
  },
  {
   "cell_type": "code",
   "execution_count": null,
   "metadata": {},
   "outputs": [],
   "source": []
  }
 ],
 "metadata": {
  "kernelspec": {
   "display_name": "Python 3",
   "language": "python",
   "name": "python3"
  },
  "language_info": {
   "codemirror_mode": {
    "name": "ipython",
    "version": 3
   },
   "file_extension": ".py",
   "mimetype": "text/x-python",
   "name": "python",
   "nbconvert_exporter": "python",
   "pygments_lexer": "ipython3",
   "version": "3.7.3"
  }
 },
 "nbformat": 4,
 "nbformat_minor": 2
}
