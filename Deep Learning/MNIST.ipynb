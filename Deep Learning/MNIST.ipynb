{
  "nbformat": 4,
  "nbformat_minor": 0,
  "metadata": {
    "kernelspec": {
      "display_name": "Python 3",
      "language": "python",
      "name": "python3"
    },
    "language_info": {
      "codemirror_mode": {
        "name": "ipython",
        "version": 3
      },
      "file_extension": ".py",
      "mimetype": "text/x-python",
      "name": "python",
      "nbconvert_exporter": "python",
      "pygments_lexer": "ipython3",
      "version": "3.7.6"
    },
    "colab": {
      "name": "MNIST.ipynb",
      "provenance": []
    }
  },
  "cells": [
    {
      "cell_type": "markdown",
      "metadata": {
        "id": "QGHaToZb8Tts",
        "colab_type": "text"
      },
      "source": [
        "### Title: To show how keras and tensorflow works"
      ]
    },
    {
      "cell_type": "code",
      "metadata": {
        "id": "8A56sAlY8Ttu",
        "colab_type": "code",
        "colab": {}
      },
      "source": [
        "# Importing libraries\n",
        "import numpy as np\n",
        "import matplotlib\n",
        "import matplotlib.pyplot as plt\n",
        "# from sklearn.datasets import fetch_mldata (deprecated)\n",
        "from sklearn.datasets import fetch_openml  # Using this instead of above.\n",
        "from sklearn.metrics import classification_report, confusion_matrix"
      ],
      "execution_count": 1,
      "outputs": []
    },
    {
      "cell_type": "code",
      "metadata": {
        "id": "2z92QieV8Tt2",
        "colab_type": "code",
        "colab": {}
      },
      "source": [
        "# Reading data\n",
        "mnist = fetch_openml('mnist_784')"
      ],
      "execution_count": 2,
      "outputs": []
    },
    {
      "cell_type": "code",
      "metadata": {
        "id": "DMwYZbc_8Tt8",
        "colab_type": "code",
        "colab": {}
      },
      "source": [
        "# Transforming data\n",
        "inputData, y = mnist['data'], mnist['target']"
      ],
      "execution_count": 3,
      "outputs": []
    },
    {
      "cell_type": "code",
      "metadata": {
        "id": "1zOZ8thK8TuA",
        "colab_type": "code",
        "colab": {}
      },
      "source": [
        "# As inputdata contains the colorful images.\n",
        "# Each pixel are aranged in the form of array from 0 to 255.\n",
        "# To convert in gray form just divide by 255.\n",
        "inputData = inputData/255\n",
        "nDigits = 10   # 0 - 9 = 10."
      ],
      "execution_count": 4,
      "outputs": []
    },
    {
      "cell_type": "code",
      "metadata": {
        "id": "1rX3RRr78TuE",
        "colab_type": "code",
        "colab": {
          "base_uri": "https://localhost:8080/",
          "height": 34
        },
        "outputId": "6c6a39ab-b380-4140-df89-90392516888c"
      },
      "source": [
        "y = y.astype('float32')\n",
        "y.shape"
      ],
      "execution_count": 5,
      "outputs": [
        {
          "output_type": "execute_result",
          "data": {
            "text/plain": [
              "(70000,)"
            ]
          },
          "metadata": {
            "tags": []
          },
          "execution_count": 5
        }
      ]
    },
    {
      "cell_type": "code",
      "metadata": {
        "id": "8HzOGSTP8TuJ",
        "colab_type": "code",
        "colab": {}
      },
      "source": [
        "# Chnaging y to a sparse matrix.\n",
        "y_sparse = np.zeros([y.shape[0], nDigits])\n",
        "for i in range(y.shape[0]):\n",
        "    y_sparse[i, y[i].astype(int)] = 1\n",
        "y = y_sparse"
      ],
      "execution_count": 6,
      "outputs": []
    },
    {
      "cell_type": "code",
      "metadata": {
        "id": "Hf6Re9vw8TuL",
        "colab_type": "code",
        "colab": {
          "base_uri": "https://localhost:8080/",
          "height": 34
        },
        "outputId": "cc04b120-f635-4619-853b-880a535f8552"
      },
      "source": [
        "# New y as sparse matrix.\n",
        "y[0]"
      ],
      "execution_count": 7,
      "outputs": [
        {
          "output_type": "execute_result",
          "data": {
            "text/plain": [
              "array([0., 0., 0., 0., 0., 1., 0., 0., 0., 0.])"
            ]
          },
          "metadata": {
            "tags": []
          },
          "execution_count": 7
        }
      ]
    },
    {
      "cell_type": "code",
      "metadata": {
        "id": "rXsLfIuD8TuP",
        "colab_type": "code",
        "colab": {}
      },
      "source": [
        "# Spliting dataset into train and test.\n",
        "train_size = 60000\n",
        "test_size = y.shape[0] - train_size"
      ],
      "execution_count": 8,
      "outputs": []
    },
    {
      "cell_type": "code",
      "metadata": {
        "id": "3O8abWMw8TuR",
        "colab_type": "code",
        "colab": {}
      },
      "source": [
        "# Spliting y\n",
        "y_train, y_test = y[:train_size, :].reshape(train_size, nDigits), y[train_size:, :].reshape(test_size, nDigits)"
      ],
      "execution_count": 9,
      "outputs": []
    },
    {
      "cell_type": "code",
      "metadata": {
        "id": "po2kh-k48TuV",
        "colab_type": "code",
        "colab": {}
      },
      "source": [
        "# Spliting inputData\n",
        "inputData_train, inputData_test = inputData[:train_size, :], inputData[train_size:, :]"
      ],
      "execution_count": 10,
      "outputs": []
    },
    {
      "cell_type": "code",
      "metadata": {
        "id": "rD8Wdszw8TuY",
        "colab_type": "code",
        "colab": {}
      },
      "source": [
        "# To have random variable to our Neural Network.\n",
        "np.random.seed(1004)"
      ],
      "execution_count": 11,
      "outputs": []
    },
    {
      "cell_type": "code",
      "metadata": {
        "id": "4jznbYqd8Tub",
        "colab_type": "code",
        "colab": {
          "base_uri": "https://localhost:8080/",
          "height": 50
        },
        "outputId": "4ee7cc3f-bf73-4c4b-cbf2-c0c14ea365b8"
      },
      "source": [
        "y[0:2, :]"
      ],
      "execution_count": 12,
      "outputs": [
        {
          "output_type": "execute_result",
          "data": {
            "text/plain": [
              "array([[0., 0., 0., 0., 0., 1., 0., 0., 0., 0.],\n",
              "       [1., 0., 0., 0., 0., 0., 0., 0., 0., 0.]])"
            ]
          },
          "metadata": {
            "tags": []
          },
          "execution_count": 12
        }
      ]
    },
    {
      "cell_type": "code",
      "metadata": {
        "id": "fCR_n5qq8Tue",
        "colab_type": "code",
        "colab": {
          "base_uri": "https://localhost:8080/",
          "height": 265
        },
        "outputId": "97258044-9e94-4c41-be2c-a614eb6ced7f"
      },
      "source": [
        "# Display some of the digit\n",
        "i = 2000\n",
        "plt.imshow(inputData_train[i, :].reshape(28,28), cmap=matplotlib.cm.binary)\n",
        "plt.axis(\"off\")\n",
        "plt.show()\n",
        "# print('Digit:', (list(y[i])).index(1))\n",
        "print('Digit:', np.argmax(y[i]))"
      ],
      "execution_count": 13,
      "outputs": [
        {
          "output_type": "display_data",
          "data": {
            "image/png": "[encoded data removed]",
            "text/plain": [
              "<Figure size 432x288 with 1 Axes>"
            ]
          },
          "metadata": {
            "tags": [],
            "needs_background": "light"
          }
        },
        {
          "output_type": "stream",
          "text": [
            "Digit: 5\n"
          ],
          "name": "stdout"
        }
      ]
    },
    {
      "cell_type": "code",
      "metadata": {
        "id": "P3gOubnj8Tuh",
        "colab_type": "code",
        "colab": {}
      },
      "source": [
        "# Defining activation functions\n",
        "def sigmoid(x):\n",
        "    return 1/(1+np.exp(-x))\n",
        "\n",
        "def sigmoid_derivative(z):   # Here z is sigmoid function at a specific value.\n",
        "    return z/(1-z)\n",
        "\n",
        "def relu(x):\n",
        "    return np.maximum(0, x)\n",
        "\n",
        "def relu_derivative(x):\n",
        "    return 0.5 * (np.sign(x)+1)\n",
        "    \n",
        "def CrossEntropyLoss(y, y_hat):\n",
        "    L_sum = np.sum(np.multiply(y, np.log(y_hat)))\n",
        "    m = y.shape[1]\n",
        "    L = -(1/m) * L_sum\n",
        "\n",
        "    return L\n",
        "\n",
        "def softmax(y):\n",
        "    return np.exp(y) / np.sum(np.exp(y), axis=0)\n",
        "\n",
        "def CE_Softmax_Derivative(output, ideal_output):\n",
        "    return output - ideal_output"
      ],
      "execution_count": 14,
      "outputs": []
    },
    {
      "cell_type": "code",
      "metadata": {
        "id": "ImhJKn4T8Tuk",
        "colab_type": "code",
        "colab": {}
      },
      "source": [
        "# Defining values.\n",
        "inputDim = inputData_train.shape[1]\n",
        "nHidden = 64    # Number of nodes in hidden layer 1\n",
        "learning_rate = 1  \n",
        "weight_decay = 0.001    # It is the constant for L2 regularization"
      ],
      "execution_count": 15,
      "outputs": []
    },
    {
      "cell_type": "code",
      "metadata": {
        "id": "uT_Y5P178Tun",
        "colab_type": "code",
        "colab": {}
      },
      "source": [
        "W1 = 0.01*np.random.randn(nHidden, inputDim)   # Weights for hidden layer 1\n",
        "b1 = np.zeros((nHidden, 1))   \n",
        "W2 = 0.01*np.random.randn(nDigits, nHidden)    #Weights for Output layer\n",
        "b2 = np.zeros((nDigits, 1))\n",
        "\n",
        "# NOTE: \n",
        "# 1) We're considering normal distribution so as to get the values about the origin.\n",
        "# 2) Multiplying by 0.01 so as to restrict the large number."
      ],
      "execution_count": 16,
      "outputs": []
    },
    {
      "cell_type": "code",
      "metadata": {
        "id": "GJFrsueV8Tuq",
        "colab_type": "code",
        "colab": {}
      },
      "source": [
        "# Setting the data\n",
        "inputData = inputData_train\n",
        "y = y_train"
      ],
      "execution_count": 17,
      "outputs": []
    },
    {
      "cell_type": "code",
      "metadata": {
        "id": "CU-Cn4da8Tut",
        "colab_type": "code",
        "colab": {
          "base_uri": "https://localhost:8080/",
          "height": 447
        },
        "outputId": "9092d7ce-4d95-44cb-b8bd-cc8fed65fff3"
      },
      "source": [
        "nEpoch = 100  # Number of times will train data.\n",
        "costPlot = np.zeros(nEpoch)\n",
        "\n",
        "for i in range(nEpoch):\n",
        "    # Forward Pass\n",
        "    Z1 = np.matmul(W1, inputData.T) + b1\n",
        "    A1 = relu(Z1)\n",
        "    Z2 = np.matmul(W2, A1) + b2\n",
        "    A2 = softmax(Z2)\n",
        "\n",
        "    cost = CrossEntropyLoss(y.T, A2)\n",
        "    costPlot[i] = cost\n",
        "    \n",
        "    # Back Propagation using Chain rule in derivatives.\n",
        "    dZ2 = CE_Softmax_Derivative(A2, y.T)\n",
        "    dW2 = (1/train_size) * np.matmul(dZ2, A1.T)  # Divided by m -> To get the average of all the samples.\n",
        "    db2 = (1/train_size) * np.sum(dZ2, axis=1, keepdims=True)\n",
        "    \n",
        "    dA1 = np.matmul(W2.T, dZ2)\n",
        "    dZ1 = dA1 * relu_derivative(Z1)\n",
        "    dW1 = (1/train_size) * np.matmul(dZ1, inputData)\n",
        "    db1 = (1/train_size) * np.sum(dZ1, axis=1, keepdims=True)\n",
        "    \n",
        "    W2 = W2 - learning_rate * dW2 + weight_decay * W2\n",
        "    b2 = b2 - learning_rate * db2\n",
        "    W1 = W1 - learning_rate * dW1 + weight_decay * W1\n",
        "    b1 = b1 - learning_rate * db1\n",
        "    \n",
        "    if i % 10 == 0:\n",
        "        print(f'#Epoch {i}, cost = {cost}')\n",
        "        \n",
        "plt.plot(costPlot)\n",
        "plt.xlabel('Epoch')\n",
        "plt.ylabel('Cost')\n",
        "plt.show()"
      ],
      "execution_count": 18,
      "outputs": [
        {
          "output_type": "stream",
          "text": [
            "#Epoch 0, cost = 2.3026412975993007\n",
            "#Epoch 10, cost = 1.2906035116639847\n",
            "#Epoch 20, cost = 1.4004882210243816\n",
            "#Epoch 30, cost = 1.0038241152800016\n",
            "#Epoch 40, cost = 0.7400932435549599\n",
            "#Epoch 50, cost = 0.47694464545605664\n",
            "#Epoch 60, cost = 0.5020383496590376\n",
            "#Epoch 70, cost = 0.33371321031948387\n",
            "#Epoch 80, cost = 0.31498377857822446\n",
            "#Epoch 90, cost = 0.39691041189360876\n"
          ],
          "name": "stdout"
        },
        {
          "output_type": "display_data",
          "data": {
            "image/png": "[encoded data removed]",
            "text/plain": [
              "<Figure size 432x288 with 1 Axes>"
            ]
          },
          "metadata": {
            "tags": [],
            "needs_background": "light"
          }
        }
      ]
    },
    {
      "cell_type": "code",
      "metadata": {
        "id": "oXeOXUEw8Tuw",
        "colab_type": "code",
        "colab": {}
      },
      "source": [
        "# Using value of W and b that are obtained to test the data.\n",
        "\n",
        "Z1 = np.matmul(W1, inputData_test.T) + b1\n",
        "A1 = relu(Z1)\n",
        "Z2 = np.matmul(W2, A1) + b2\n",
        "\n",
        "pred = np.argmax(Z2, axis=0)\n",
        "label = np.argmax(y_test.T, axis=0)"
      ],
      "execution_count": 19,
      "outputs": []
    },
    {
      "cell_type": "code",
      "metadata": {
        "id": "ic30pNG28Tuy",
        "colab_type": "code",
        "colab": {
          "base_uri": "https://localhost:8080/",
          "height": 470
        },
        "outputId": "2966a20e-b3f5-4528-cfab-fc1f7efa3b12"
      },
      "source": [
        "# Printing Confusion matix and classification report.\n",
        "print(confusion_matrix(pred, label))\n",
        "print(classification_report(pred, label))"
      ],
      "execution_count": 20,
      "outputs": [
        {
          "output_type": "stream",
          "text": [
            "[[ 953    0   12    6    1   13   17    3    5    8]\n",
            " [   0 1091    1    1    1    3    2    9    5    4]\n",
            " [   1    2  897   30    3    0    3   31    1    2]\n",
            " [   0    1    3  708    0    7    0    0    3    1]\n",
            " [   0    1   18    0  923   10   11   10    5   43]\n",
            " [   7    1    3  145    1  785   23    0   16   18]\n",
            " [   8    4   16    2   11   15  893    0    9    0]\n",
            " [   2    1   11   16    0    3    1  923    3   15]\n",
            " [   9   34   69   96   11   50    8   10  922   28]\n",
            " [   0    0    2    6   31    6    0   42    5  890]]\n",
            "              precision    recall  f1-score   support\n",
            "\n",
            "           0       0.97      0.94      0.95      1018\n",
            "           1       0.96      0.98      0.97      1117\n",
            "           2       0.87      0.92      0.90       970\n",
            "           3       0.70      0.98      0.82       723\n",
            "           4       0.94      0.90      0.92      1021\n",
            "           5       0.88      0.79      0.83       999\n",
            "           6       0.93      0.93      0.93       958\n",
            "           7       0.90      0.95      0.92       975\n",
            "           8       0.95      0.75      0.83      1237\n",
            "           9       0.88      0.91      0.89       982\n",
            "\n",
            "    accuracy                           0.90     10000\n",
            "   macro avg       0.90      0.90      0.90     10000\n",
            "weighted avg       0.91      0.90      0.90     10000\n",
            "\n"
          ],
          "name": "stdout"
        }
      ]
    },
    {
      "cell_type": "code",
      "metadata": {
        "id": "-7zu5kJa8Tu1",
        "colab_type": "code",
        "colab": {
          "base_uri": "https://localhost:8080/",
          "height": 447
        },
        "outputId": "3ae8fd66-400c-40ee-b0f7-6d884749b6ac"
      },
      "source": [
        "# Let's check for decreasing value of learning rate.\n",
        "learning_rate = 0.1\n",
        "nEpoch = 100  # Number of times will train data.\n",
        "costPlot = np.zeros(nEpoch)\n",
        "\n",
        "for i in range(nEpoch):\n",
        "    # Forward Pass\n",
        "    Z1 = np.matmul(W1, inputData.T) + b1\n",
        "    A1 = relu(Z1)\n",
        "    Z2 = np.matmul(W2, A1) + b2\n",
        "    A2 = softmax(Z2)\n",
        "\n",
        "    cost = CrossEntropyLoss(y.T, A2)\n",
        "    costPlot[i] = cost\n",
        "    \n",
        "    # Back Propagation using Chain rule in derivatives.\n",
        "    dZ2 = CE_Softmax_Derivative(A2, y.T)\n",
        "    dW2 = (1/train_size) * np.matmul(dZ2, A1.T)  # Divided by m -> To get the average of all the samples.\n",
        "    db2 = (1/train_size) * np.sum(dZ2, axis=1, keepdims=True)\n",
        "    \n",
        "    dA1 = np.matmul(W2.T, dZ2)\n",
        "    dZ1 = dA1 * relu_derivative(Z1)\n",
        "    dW1 = (1/train_size) * np.matmul(dZ1, inputData)\n",
        "    db1 = (1/train_size) * np.sum(dZ1, axis=1, keepdims=True)\n",
        "    \n",
        "    W2 = W2 - learning_rate * dW2 + weight_decay * W2\n",
        "    b2 = b2 - learning_rate * db2\n",
        "    W1 = W1 - learning_rate * dW1 + weight_decay * W1\n",
        "    b1 = b1 - learning_rate * db1\n",
        "    \n",
        "    if i % 10 == 0:\n",
        "        print(f'#Epoch {i}, cost = {cost}')\n",
        "        \n",
        "plt.plot(costPlot)\n",
        "plt.xlabel('Epoch')\n",
        "plt.ylabel('Cost')\n",
        "plt.show()"
      ],
      "execution_count": 21,
      "outputs": [
        {
          "output_type": "stream",
          "text": [
            "#Epoch 0, cost = 0.3436708205476808\n",
            "#Epoch 10, cost = 0.2846936367666478\n",
            "#Epoch 20, cost = 0.28173418144067197\n",
            "#Epoch 30, cost = 0.2798745653030459\n",
            "#Epoch 40, cost = 0.27821029346987536\n",
            "#Epoch 50, cost = 0.27668709802204366\n",
            "#Epoch 60, cost = 0.275278073337162\n",
            "#Epoch 70, cost = 0.27396082500223157\n",
            "#Epoch 80, cost = 0.27272637898663493\n",
            "#Epoch 90, cost = 0.2715643351760122\n"
          ],
          "name": "stdout"
        },
        {
          "output_type": "display_data",
          "data": {
            "image/png": "[encoded data removed]",
            "text/plain": [
              "<Figure size 432x288 with 1 Axes>"
            ]
          },
          "metadata": {
            "tags": [],
            "needs_background": "light"
          }
        }
      ]
    },
    {
      "cell_type": "code",
      "metadata": {
        "id": "IuPapU198Tu3",
        "colab_type": "code",
        "colab": {}
      },
      "source": [
        "# Now, again using value of W and b that are obtained to test the data.\n",
        "\n",
        "Z1 = np.matmul(W1, inputData_test.T) + b1\n",
        "A1 = relu(Z1)\n",
        "Z2 = np.matmul(W2, A1) + b2\n",
        "\n",
        "pred = np.argmax(Z2, axis=0)\n",
        "label = np.argmax(y_test.T, axis=0)"
      ],
      "execution_count": 22,
      "outputs": []
    },
    {
      "cell_type": "code",
      "metadata": {
        "id": "KfBYD6UR8Tu6",
        "colab_type": "code",
        "colab": {
          "base_uri": "https://localhost:8080/",
          "height": 470
        },
        "outputId": "283ed0a3-9d59-4bed-be5b-809a6c52598b"
      },
      "source": [
        "# Printing Confusion matix and classification report.\n",
        "print(confusion_matrix(pred, label))\n",
        "print(classification_report(pred, label))"
      ],
      "execution_count": 23,
      "outputs": [
        {
          "output_type": "stream",
          "text": [
            "[[ 957    0   12    1    1   14   15    2    4   10]\n",
            " [   0 1105    1    1    0    2    3    8    8    6]\n",
            " [   4    2  921   18    5    6    5   29    8    2]\n",
            " [   2    5   20  932    0   35    0    2   21    9]\n",
            " [   0    1   15    0  915   10    8    6    6   31]\n",
            " [   5    1    0   28    1  769   17    0   15   13]\n",
            " [   7    3   17    2   11   12  904    0   12    0]\n",
            " [   2    1   15   12    4    5    3  959    6   28]\n",
            " [   3   17   29   12    6   29    3    3  885   13]\n",
            " [   0    0    2    4   39   10    0   19    9  897]]\n",
            "              precision    recall  f1-score   support\n",
            "\n",
            "           0       0.98      0.94      0.96      1016\n",
            "           1       0.97      0.97      0.97      1134\n",
            "           2       0.89      0.92      0.91      1000\n",
            "           3       0.92      0.91      0.92      1026\n",
            "           4       0.93      0.92      0.93       992\n",
            "           5       0.86      0.91      0.88       849\n",
            "           6       0.94      0.93      0.94       968\n",
            "           7       0.93      0.93      0.93      1035\n",
            "           8       0.91      0.89      0.90      1000\n",
            "           9       0.89      0.92      0.90       980\n",
            "\n",
            "    accuracy                           0.92     10000\n",
            "   macro avg       0.92      0.92      0.92     10000\n",
            "weighted avg       0.93      0.92      0.92     10000\n",
            "\n"
          ],
          "name": "stdout"
        }
      ]
    },
    {
      "cell_type": "code",
      "metadata": {
        "id": "MDajpW9F8Tu8",
        "colab_type": "code",
        "colab": {
          "base_uri": "https://localhost:8080/",
          "height": 615
        },
        "outputId": "8a59c868-7e4b-48b9-9d3c-b5530440af3e"
      },
      "source": [
        "# Now increasing hidden layers (64 to 128) with same learning rate.\n",
        "# Defining values.\n",
        "inputDim = inputData_train.shape[1]\n",
        "nHidden = 128    \n",
        "learning_rate = 1  \n",
        "weight_decay = 0.001    \n",
        "\n",
        "W1 = 0.01*np.random.randn(nHidden, inputDim)  \n",
        "b1 = np.zeros((nHidden, 1))   \n",
        "W2 = 0.01*np.random.randn(nDigits, nHidden)    \n",
        "b2 = np.zeros((nDigits, 1))\n",
        "\n",
        "nEpoch = 200  # Number of times will train data [increased from 100 to 200].\n",
        "costPlot = np.zeros(nEpoch)\n",
        "\n",
        "for i in range(nEpoch):\n",
        "    # Forward Pass\n",
        "    Z1 = np.matmul(W1, inputData.T) + b1\n",
        "    A1 = relu(Z1)\n",
        "    Z2 = np.matmul(W2, A1) + b2\n",
        "    A2 = softmax(Z2)\n",
        "\n",
        "    cost = CrossEntropyLoss(y.T, A2)\n",
        "    costPlot[i] = cost\n",
        "    \n",
        "    # Back Propagation using Chain rule in derivatives.\n",
        "    dZ2 = CE_Softmax_Derivative(A2, y.T)\n",
        "    dW2 = (1/train_size) * np.matmul(dZ2, A1.T)  # Divided by m -> To get the average of all the samples.\n",
        "    db2 = (1/train_size) * np.sum(dZ2, axis=1, keepdims=True)\n",
        "    \n",
        "    dA1 = np.matmul(W2.T, dZ2)\n",
        "    dZ1 = dA1 * relu_derivative(Z1)\n",
        "    dW1 = (1/train_size) * np.matmul(dZ1, inputData)\n",
        "    db1 = (1/train_size) * np.sum(dZ1, axis=1, keepdims=True)\n",
        "    \n",
        "    W2 = W2 - learning_rate * dW2 + weight_decay * W2\n",
        "    b2 = b2 - learning_rate * db2\n",
        "    W1 = W1 - learning_rate * dW1 + weight_decay * W1\n",
        "    b1 = b1 - learning_rate * db1\n",
        "    \n",
        "    if i % 10 == 0:\n",
        "        print(f'#Epoch {i}, cost = {cost}')\n",
        "        \n",
        "plt.plot(costPlot)\n",
        "plt.xlabel('Epoch')\n",
        "plt.ylabel('Cost')\n",
        "plt.show()"
      ],
      "execution_count": 24,
      "outputs": [
        {
          "output_type": "stream",
          "text": [
            "#Epoch 0, cost = 2.3022033691302073\n",
            "#Epoch 10, cost = 1.1112221507677986\n",
            "#Epoch 20, cost = 0.9821819095295228\n",
            "#Epoch 30, cost = 0.616034100826415\n",
            "#Epoch 40, cost = 0.47845769726851056\n",
            "#Epoch 50, cost = 0.39930205239109345\n",
            "#Epoch 60, cost = 0.3240805140248951\n",
            "#Epoch 70, cost = 0.313551482541831\n",
            "#Epoch 80, cost = 0.2685284000276954\n",
            "#Epoch 90, cost = 0.25138787582671157\n",
            "#Epoch 100, cost = 0.23721056021400144\n",
            "#Epoch 110, cost = 0.22494284058773897\n",
            "#Epoch 120, cost = 0.21406610907681153\n",
            "#Epoch 130, cost = 0.20432967203979363\n",
            "#Epoch 140, cost = 0.19562236351247309\n",
            "#Epoch 150, cost = 0.18778354018048643\n",
            "#Epoch 160, cost = 0.1806086416431095\n",
            "#Epoch 170, cost = 0.17401006855259624\n",
            "#Epoch 180, cost = 0.16793621909337736\n",
            "#Epoch 190, cost = 0.16231170149535723\n"
          ],
          "name": "stdout"
        },
        {
          "output_type": "display_data",
          "data": {
            "image/png": "[encoded data removed]",
            "text/plain": [
              "<Figure size 432x288 with 1 Axes>"
            ]
          },
          "metadata": {
            "tags": [],
            "needs_background": "light"
          }
        }
      ]
    },
    {
      "cell_type": "code",
      "metadata": {
        "id": "1J8a0lym8Tu_",
        "colab_type": "code",
        "colab": {}
      },
      "source": [
        "# Now, again using value of W and b that are obtained to test the data.\n",
        "\n",
        "Z1 = np.matmul(W1, inputData_test.T) + b1\n",
        "A1 = relu(Z1)\n",
        "Z2 = np.matmul(W2, A1) + b2\n",
        "\n",
        "pred = np.argmax(Z2, axis=0)\n",
        "label = np.argmax(y_test.T, axis=0)"
      ],
      "execution_count": 25,
      "outputs": []
    },
    {
      "cell_type": "code",
      "metadata": {
        "id": "xKye_Q8R8TvB",
        "colab_type": "code",
        "colab": {
          "base_uri": "https://localhost:8080/",
          "height": 470
        },
        "outputId": "4fb17acd-0805-42a3-8f6f-7efa20987e44"
      },
      "source": [
        "# Printing Confusion matix and classification report.\n",
        "print(confusion_matrix(pred, label))\n",
        "print(classification_report(pred, label))"
      ],
      "execution_count": 26,
      "outputs": [
        {
          "output_type": "stream",
          "text": [
            "[[ 964    0    9    1    1    7   12    1    3    8]\n",
            " [   0 1115    2    0    1    1    3    7    3    7]\n",
            " [   0    2  976   10    6    0    2   21    5    0]\n",
            " [   0    3    7  964    0   25    0    6   15   10]\n",
            " [   0    0    9    0  935    2    7    4    5   22]\n",
            " [   5    0    0   13    0  828    9    0    7    5]\n",
            " [   8    3   10    0    8   10  921    0   10    1]\n",
            " [   1    2    8    9    3    3    1  967    7    7]\n",
            " [   2   10   11   10    5   10    3    1  913    4]\n",
            " [   0    0    0    3   23    6    0   21    6  945]]\n",
            "              precision    recall  f1-score   support\n",
            "\n",
            "           0       0.98      0.96      0.97      1006\n",
            "           1       0.98      0.98      0.98      1139\n",
            "           2       0.95      0.95      0.95      1022\n",
            "           3       0.95      0.94      0.95      1030\n",
            "           4       0.95      0.95      0.95       984\n",
            "           5       0.93      0.96      0.94       867\n",
            "           6       0.96      0.95      0.95       971\n",
            "           7       0.94      0.96      0.95      1008\n",
            "           8       0.94      0.94      0.94       969\n",
            "           9       0.94      0.94      0.94      1004\n",
            "\n",
            "    accuracy                           0.95     10000\n",
            "   macro avg       0.95      0.95      0.95     10000\n",
            "weighted avg       0.95      0.95      0.95     10000\n",
            "\n"
          ],
          "name": "stdout"
        }
      ]
    },
    {
      "cell_type": "code",
      "metadata": {
        "id": "1HRi73rl8TvE",
        "colab_type": "code",
        "colab": {}
      },
      "source": [
        ""
      ],
      "execution_count": 26,
      "outputs": []
    }
  ]
}