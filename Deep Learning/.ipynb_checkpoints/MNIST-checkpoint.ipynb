{
 "cells": [
  {
   "cell_type": "markdown",
   "metadata": {},
   "source": [
    "### Title: To show how keras and tensorflow works"
   ]
  },
  {
   "cell_type": "code",
   "execution_count": 1,
   "metadata": {},
   "outputs": [],
   "source": [
    "# Importing libraries\n",
    "import numpy as np\n",
    "import matplotlib\n",
    "import matplotlib.pyplot as plt\n",
    "# from sklearn.datasets import fetch_mldata (deprecated)\n",
    "from sklearn.datasets import fetch_openml  # Using this instead of above.\n",
    "from sklearn.metrics import classification_report, confusion_matrix"
   ]
  },
  {
   "cell_type": "code",
   "execution_count": 2,
   "metadata": {},
   "outputs": [],
   "source": [
    "# Reading data\n",
    "mnist = fetch_openml('mnist_784')"
   ]
  },
  {
   "cell_type": "code",
   "execution_count": 64,
   "metadata": {},
   "outputs": [],
   "source": [
    "# Transforming data\n",
    "inputData, y = mnist['data'], mnist['target']"
   ]
  },
  {
   "cell_type": "code",
   "execution_count": 65,
   "metadata": {},
   "outputs": [],
   "source": [
    "# As inputdata contains the colorful images.\n",
    "# Each pixel are aranged in the form of array from 0 to 255.\n",
    "# To convert in gray form just divide by 255.\n",
    "inputData = inputData/255\n",
    "nDigits = 10   # 0 - 9 = 10."
   ]
  },
  {
   "cell_type": "code",
   "execution_count": 66,
   "metadata": {},
   "outputs": [
    {
     "data": {
      "text/plain": [
       "(70000,)"
      ]
     },
     "execution_count": 66,
     "metadata": {},
     "output_type": "execute_result"
    }
   ],
   "source": [
    "y = y.astype('float32')\n",
    "y.shape"
   ]
  },
  {
   "cell_type": "code",
   "execution_count": 67,
   "metadata": {},
   "outputs": [],
   "source": [
    "# Chnaging y to a sparse matrix.\n",
    "y_sparse = np.zeros([y.shape[0], nDigits])\n",
    "for i in range(y.shape[0]):\n",
    "    y_sparse[i, y[i].astype(int)] = 1\n",
    "y = y_sparse"
   ]
  },
  {
   "cell_type": "code",
   "execution_count": 68,
   "metadata": {},
   "outputs": [
    {
     "data": {
      "text/plain": [
       "array([0., 0., 0., 0., 0., 1., 0., 0., 0., 0.])"
      ]
     },
     "execution_count": 68,
     "metadata": {},
     "output_type": "execute_result"
    }
   ],
   "source": [
    "# New y as sparse matrix.\n",
    "y[0]"
   ]
  },
  {
   "cell_type": "code",
   "execution_count": 69,
   "metadata": {},
   "outputs": [],
   "source": [
    "# Spliting dataset into train and test.\n",
    "train_size = 60000\n",
    "test_size = y.shape[0] - train_size"
   ]
  },
  {
   "cell_type": "code",
   "execution_count": 70,
   "metadata": {},
   "outputs": [],
   "source": [
    "# Spliting y\n",
    "y_train, y_test = y[:train_size, :].reshape(train_size, nDigits), y[train_size:, :].reshape(test_size, nDigits)"
   ]
  },
  {
   "cell_type": "code",
   "execution_count": 71,
   "metadata": {},
   "outputs": [],
   "source": [
    "# Spliting inputData\n",
    "inputData_train, inputData_test = inputData[:train_size, :], inputData[train_size:, :]"
   ]
  },
  {
   "cell_type": "code",
   "execution_count": 72,
   "metadata": {},
   "outputs": [],
   "source": [
    "# To have random variable to our Neural Network.\n",
    "np.random.seed(1004)"
   ]
  },
  {
   "cell_type": "code",
   "execution_count": 73,
   "metadata": {},
   "outputs": [
    {
     "data": {
      "text/plain": [
       "array([[0., 0., 0., 0., 0., 1., 0., 0., 0., 0.],\n",
       "       [1., 0., 0., 0., 0., 0., 0., 0., 0., 0.]])"
      ]
     },
     "execution_count": 73,
     "metadata": {},
     "output_type": "execute_result"
    }
   ],
   "source": [
    "y[0:2, :]"
   ]
  },
  {
   "cell_type": "code",
   "execution_count": 74,
   "metadata": {},
   "outputs": [
    {
     "data": {
      "image/png": "[encoded data removed]",
      "text/plain": [
       "<Figure size 432x288 with 1 Axes>"
      ]
     },
     "metadata": {
      "needs_background": "light"
     },
     "output_type": "display_data"
    },
    {
     "name": "stdout",
     "output_type": "stream",
     "text": [
      "Digit: 5\n"
     ]
    }
   ],
   "source": [
    "# Display some of the digit\n",
    "i = 2000\n",
    "plt.imshow(inputData_train[i, :].reshape(28,28), cmap=matplotlib.cm.binary)\n",
    "plt.axis(\"off\")\n",
    "plt.show()\n",
    "# print('Digit:', (list(y[i])).index(1))\n",
    "print('Digit:', np.argmax(y[i]))"
   ]
  },
  {
   "cell_type": "code",
   "execution_count": 75,
   "metadata": {},
   "outputs": [],
   "source": [
    "# Defining activation functions\n",
    "def sigmoid(x):\n",
    "    return 1/(1+np.exp(-x))\n",
    "\n",
    "def sigmoid_derivative(z):   # Here z is sigmoid function at a specific value.\n",
    "    return z/(1-z)\n",
    "\n",
    "def relu(x):\n",
    "    return np.maximum(0, x)\n",
    "\n",
    "def relu_derivative(x):\n",
    "    return 0.5 * (np.sign(x)+1)\n",
    "    \n",
    "def CrossEntropyLoss(y, y_hat):\n",
    "    L_sum = np.sum(np.multiply(y, np.log(y_hat)))\n",
    "    m = y.shape[1]\n",
    "    L = -(1/m) * L_sum\n",
    "\n",
    "    return L\n",
    "\n",
    "def softmax(y):\n",
    "    return np.exp(y) / np.sum(np.exp(y), axis=0)\n",
    "\n",
    "def CE_Softmax_Derivative(output, ideal_output):\n",
    "    return output - ideal_output"
   ]
  },
  {
   "cell_type": "code",
   "execution_count": 76,
   "metadata": {},
   "outputs": [],
   "source": [
    "# Defining values.\n",
    "inputDim = inputData_train.shape[1]\n",
    "nHidden = 64    # Number of nodes in hidden layer 1\n",
    "learning_rate = 1  \n",
    "weight_decay = 0.001    # It is the constant for L2 regularization"
   ]
  },
  {
   "cell_type": "code",
   "execution_count": 77,
   "metadata": {},
   "outputs": [],
   "source": [
    "W1 = 0.01*np.random.randn(nHidden, inputDim)   # Weights for hidden layer 1\n",
    "b1 = np.zeros((nHidden, 1))   \n",
    "W2 = 0.01*np.random.randn(nDigits, nHidden)    #Weights for Output layer\n",
    "b2 = np.zeros((nDigits, 1))\n",
    "\n",
    "# NOTE: \n",
    "# 1) We're considering normal distribution so as to get the values about the origin.\n",
    "# 2) Multiplying by 0.01 so as to restrict the large number."
   ]
  },
  {
   "cell_type": "code",
   "execution_count": 78,
   "metadata": {},
   "outputs": [],
   "source": [
    "# Setting the data\n",
    "inputData = inputData_train\n",
    "y = y_train"
   ]
  },
  {
   "cell_type": "code",
   "execution_count": 79,
   "metadata": {},
   "outputs": [
    {
     "name": "stdout",
     "output_type": "stream",
     "text": [
      "#Epoch 0, cost = 2.3026412975993007\n",
      "#Epoch 10, cost = 1.2906035116639847\n",
      "#Epoch 20, cost = 1.400488221024381\n",
      "#Epoch 30, cost = 1.003824115279999\n",
      "#Epoch 40, cost = 0.7400932435549757\n",
      "#Epoch 50, cost = 0.4769446454560711\n",
      "#Epoch 60, cost = 0.5020383496588163\n",
      "#Epoch 70, cost = 0.3337132103194726\n",
      "#Epoch 80, cost = 0.3149837785782305\n",
      "#Epoch 90, cost = 0.3969104119097995\n"
     ]
    },
    {
     "data": {
      "image/png": "[encoded data removed]",
      "text/plain": [
       "<Figure size 432x288 with 1 Axes>"
      ]
     },
     "metadata": {
      "needs_background": "light"
     },
     "output_type": "display_data"
    }
   ],
   "source": [
    "nEpoch = 100  # Number of times will train data.\n",
    "costPlot = np.zeros(nEpoch)\n",
    "\n",
    "for i in range(nEpoch):\n",
    "    # Forward Pass\n",
    "    Z1 = np.matmul(W1, inputData.T) + b1\n",
    "    A1 = relu(Z1)\n",
    "    Z2 = np.matmul(W2, A1) + b2\n",
    "    A2 = softmax(Z2)\n",
    "\n",
    "    cost = CrossEntropyLoss(y.T, A2)\n",
    "    costPlot[i] = cost\n",
    "    \n",
    "    # Back Propagation using Chain rule in derivatives.\n",
    "    dZ2 = CE_Softmax_Derivative(A2, y.T)\n",
    "    dW2 = (1/train_size) * np.matmul(dZ2, A1.T)  # Divided by m -> To get the average of all the samples.\n",
    "    db2 = (1/train_size) * np.sum(dZ2, axis=1, keepdims=True)\n",
    "    \n",
    "    dA1 = np.matmul(W2.T, dZ2)\n",
    "    dZ1 = dA1 * relu_derivative(Z1)\n",
    "    dW1 = (1/train_size) * np.matmul(dZ1, inputData)\n",
    "    db1 = (1/train_size) * np.sum(dZ1, axis=1, keepdims=True)\n",
    "    \n",
    "    W2 = W2 - learning_rate * dW2 + weight_decay * W2\n",
    "    b2 = b2 - learning_rate * db2\n",
    "    W1 = W1 - learning_rate * dW1 + weight_decay * W1\n",
    "    b1 = b1 - learning_rate * db1\n",
    "    \n",
    "    if i % 10 == 0:\n",
    "        print(f'#Epoch {i}, cost = {cost}')\n",
    "        \n",
    "plt.plot(costPlot)\n",
    "plt.xlabel('Epoch')\n",
    "plt.ylabel('Cost')\n",
    "plt.show()"
   ]
  },
  {
   "cell_type": "code",
   "execution_count": 80,
   "metadata": {},
   "outputs": [],
   "source": [
    "# Using value of W and b that are obtained to test the data.\n",
    "\n",
    "Z1 = np.matmul(W1, inputData_test.T) + b1\n",
    "A1 = relu(Z1)\n",
    "Z2 = np.matmul(W2, A1) + b2\n",
    "\n",
    "pred = np.argmax(Z2, axis=0)\n",
    "label = np.argmax(y_test.T, axis=0)"
   ]
  },
  {
   "cell_type": "code",
   "execution_count": 81,
   "metadata": {},
   "outputs": [
    {
     "name": "stdout",
     "output_type": "stream",
     "text": [
      "[[ 953    0   12    6    1   13   17    3    5    8]\n",
      " [   0 1091    1    1    1    3    2    9    5    4]\n",
      " [   1    2  897   30    3    0    3   31    1    2]\n",
      " [   0    1    3  708    0    7    0    0    3    1]\n",
      " [   0    1   18    0  923   10   11   10    5   43]\n",
      " [   7    1    3  145    1  785   23    0   16   18]\n",
      " [   8    4   16    2   11   15  893    0    9    0]\n",
      " [   2    1   11   16    0    3    1  923    3   15]\n",
      " [   9   34   69   96   11   50    8   10  922   28]\n",
      " [   0    0    2    6   31    6    0   42    5  890]]\n",
      "              precision    recall  f1-score   support\n",
      "\n",
      "           0       0.97      0.94      0.95      1018\n",
      "           1       0.96      0.98      0.97      1117\n",
      "           2       0.87      0.92      0.90       970\n",
      "           3       0.70      0.98      0.82       723\n",
      "           4       0.94      0.90      0.92      1021\n",
      "           5       0.88      0.79      0.83       999\n",
      "           6       0.93      0.93      0.93       958\n",
      "           7       0.90      0.95      0.92       975\n",
      "           8       0.95      0.75      0.83      1237\n",
      "           9       0.88      0.91      0.89       982\n",
      "\n",
      "    accuracy                           0.90     10000\n",
      "   macro avg       0.90      0.90      0.90     10000\n",
      "weighted avg       0.91      0.90      0.90     10000\n",
      "\n"
     ]
    }
   ],
   "source": [
    "# Printing Confusion matix and classification report.\n",
    "print(confusion_matrix(pred, label))\n",
    "print(classification_report(pred, label))"
   ]
  },
  {
   "cell_type": "code",
   "execution_count": 82,
   "metadata": {},
   "outputs": [
    {
     "name": "stdout",
     "output_type": "stream",
     "text": [
      "#Epoch 0, cost = 0.3436708205054101\n",
      "#Epoch 10, cost = 0.2846936367653489\n",
      "#Epoch 20, cost = 0.28173418144026924\n",
      "#Epoch 30, cost = 0.27987456530275906\n",
      "#Epoch 40, cost = 0.2782102934696562\n",
      "#Epoch 50, cost = 0.27668709802186814\n",
      "#Epoch 60, cost = 0.27527807333701926\n",
      "#Epoch 70, cost = 0.27396082500211816\n",
      "#Epoch 80, cost = 0.2727263789865407\n",
      "#Epoch 90, cost = 0.2715643351759292\n"
     ]
    },
    {
     "data": {
      "image/png": "[encoded data removed]",
      "text/plain": [
       "<Figure size 432x288 with 1 Axes>"
      ]
     },
     "metadata": {
      "needs_background": "light"
     },
     "output_type": "display_data"
    }
   ],
   "source": [
    "# Let's check for decreasing value of learning rate.\n",
    "learning_rate = 0.1\n",
    "nEpoch = 100  # Number of times will train data.\n",
    "costPlot = np.zeros(nEpoch)\n",
    "\n",
    "for i in range(nEpoch):\n",
    "    # Forward Pass\n",
    "    Z1 = np.matmul(W1, inputData.T) + b1\n",
    "    A1 = relu(Z1)\n",
    "    Z2 = np.matmul(W2, A1) + b2\n",
    "    A2 = softmax(Z2)\n",
    "\n",
    "    cost = CrossEntropyLoss(y.T, A2)\n",
    "    costPlot[i] = cost\n",
    "    \n",
    "    # Back Propagation using Chain rule in derivatives.\n",
    "    dZ2 = CE_Softmax_Derivative(A2, y.T)\n",
    "    dW2 = (1/train_size) * np.matmul(dZ2, A1.T)  # Divided by m -> To get the average of all the samples.\n",
    "    db2 = (1/train_size) * np.sum(dZ2, axis=1, keepdims=True)\n",
    "    \n",
    "    dA1 = np.matmul(W2.T, dZ2)\n",
    "    dZ1 = dA1 * relu_derivative(Z1)\n",
    "    dW1 = (1/train_size) * np.matmul(dZ1, inputData)\n",
    "    db1 = (1/train_size) * np.sum(dZ1, axis=1, keepdims=True)\n",
    "    \n",
    "    W2 = W2 - learning_rate * dW2 + weight_decay * W2\n",
    "    b2 = b2 - learning_rate * db2\n",
    "    W1 = W1 - learning_rate * dW1 + weight_decay * W1\n",
    "    b1 = b1 - learning_rate * db1\n",
    "    \n",
    "    if i % 10 == 0:\n",
    "        print(f'#Epoch {i}, cost = {cost}')\n",
    "        \n",
    "plt.plot(costPlot)\n",
    "plt.xlabel('Epoch')\n",
    "plt.ylabel('Cost')\n",
    "plt.show()"
   ]
  },
  {
   "cell_type": "code",
   "execution_count": 83,
   "metadata": {},
   "outputs": [],
   "source": [
    "# Now, again using value of W and b that are obtained to test the data.\n",
    "\n",
    "Z1 = np.matmul(W1, inputData_test.T) + b1\n",
    "A1 = relu(Z1)\n",
    "Z2 = np.matmul(W2, A1) + b2\n",
    "\n",
    "pred = np.argmax(Z2, axis=0)\n",
    "label = np.argmax(y_test.T, axis=0)"
   ]
  },
  {
   "cell_type": "code",
   "execution_count": 84,
   "metadata": {},
   "outputs": [
    {
     "name": "stdout",
     "output_type": "stream",
     "text": [
      "[[ 957    0   12    1    1   14   15    2    4   10]\n",
      " [   0 1105    1    1    0    2    3    8    8    6]\n",
      " [   4    2  921   18    5    6    5   29    8    2]\n",
      " [   2    5   20  932    0   35    0    2   21    9]\n",
      " [   0    1   15    0  915   10    8    6    6   31]\n",
      " [   5    1    0   28    1  769   17    0   15   13]\n",
      " [   7    3   17    2   11   12  904    0   12    0]\n",
      " [   2    1   15   12    4    5    3  959    6   28]\n",
      " [   3   17   29   12    6   29    3    3  885   13]\n",
      " [   0    0    2    4   39   10    0   19    9  897]]\n",
      "              precision    recall  f1-score   support\n",
      "\n",
      "           0       0.98      0.94      0.96      1016\n",
      "           1       0.97      0.97      0.97      1134\n",
      "           2       0.89      0.92      0.91      1000\n",
      "           3       0.92      0.91      0.92      1026\n",
      "           4       0.93      0.92      0.93       992\n",
      "           5       0.86      0.91      0.88       849\n",
      "           6       0.94      0.93      0.94       968\n",
      "           7       0.93      0.93      0.93      1035\n",
      "           8       0.91      0.89      0.90      1000\n",
      "           9       0.89      0.92      0.90       980\n",
      "\n",
      "    accuracy                           0.92     10000\n",
      "   macro avg       0.92      0.92      0.92     10000\n",
      "weighted avg       0.93      0.92      0.92     10000\n",
      "\n"
     ]
    }
   ],
   "source": [
    "# Printing Confusion matix and classification report.\n",
    "print(confusion_matrix(pred, label))\n",
    "print(classification_report(pred, label))"
   ]
  },
  {
   "cell_type": "code",
   "execution_count": 85,
   "metadata": {},
   "outputs": [
    {
     "name": "stdout",
     "output_type": "stream",
     "text": [
      "#Epoch 0, cost = 2.3022033691302073\n",
      "#Epoch 10, cost = 1.111222150767799\n",
      "#Epoch 20, cost = 0.9821819095295197\n",
      "#Epoch 30, cost = 0.6160341008263729\n",
      "#Epoch 40, cost = 0.4784576972690535\n",
      "#Epoch 50, cost = 0.3993020523919845\n",
      "#Epoch 60, cost = 0.32408051402479027\n",
      "#Epoch 70, cost = 0.31355148254194115\n",
      "#Epoch 80, cost = 0.26852840002770073\n",
      "#Epoch 90, cost = 0.2513878758267151\n",
      "#Epoch 100, cost = 0.23721056021400416\n",
      "#Epoch 110, cost = 0.22494284058774075\n",
      "#Epoch 120, cost = 0.21406610907681253\n",
      "#Epoch 130, cost = 0.2043296720397941\n",
      "#Epoch 140, cost = 0.1956223635124733\n",
      "#Epoch 150, cost = 0.18778354018048632\n",
      "#Epoch 160, cost = 0.1806086416431093\n",
      "#Epoch 170, cost = 0.17401006855259574\n",
      "#Epoch 180, cost = 0.1679362190933768\n",
      "#Epoch 190, cost = 0.16231170149535662\n"
     ]
    },
    {
     "data": {
      "image/png": "[encoded data removed]",
      "text/plain": [
       "<Figure size 432x288 with 1 Axes>"
      ]
     },
     "metadata": {
      "needs_background": "light"
     },
     "output_type": "display_data"
    }
   ],
   "source": [
    "# Now increasing hidden layers (64 to 128) with same learning rate.\n",
    "# Defining values.\n",
    "inputDim = inputData_train.shape[1]\n",
    "nHidden = 128    \n",
    "learning_rate = 1  \n",
    "weight_decay = 0.001    \n",
    "\n",
    "W1 = 0.01*np.random.randn(nHidden, inputDim)  \n",
    "b1 = np.zeros((nHidden, 1))   \n",
    "W2 = 0.01*np.random.randn(nDigits, nHidden)    \n",
    "b2 = np.zeros((nDigits, 1))\n",
    "\n",
    "nEpoch = 200  # Number of times will train data [increased from 100 to 200].\n",
    "costPlot = np.zeros(nEpoch)\n",
    "\n",
    "for i in range(nEpoch):\n",
    "    # Forward Pass\n",
    "    Z1 = np.matmul(W1, inputData.T) + b1\n",
    "    A1 = relu(Z1)\n",
    "    Z2 = np.matmul(W2, A1) + b2\n",
    "    A2 = softmax(Z2)\n",
    "\n",
    "    cost = CrossEntropyLoss(y.T, A2)\n",
    "    costPlot[i] = cost\n",
    "    \n",
    "    # Back Propagation using Chain rule in derivatives.\n",
    "    dZ2 = CE_Softmax_Derivative(A2, y.T)\n",
    "    dW2 = (1/train_size) * np.matmul(dZ2, A1.T)  # Divided by m -> To get the average of all the samples.\n",
    "    db2 = (1/train_size) * np.sum(dZ2, axis=1, keepdims=True)\n",
    "    \n",
    "    dA1 = np.matmul(W2.T, dZ2)\n",
    "    dZ1 = dA1 * relu_derivative(Z1)\n",
    "    dW1 = (1/train_size) * np.matmul(dZ1, inputData)\n",
    "    db1 = (1/train_size) * np.sum(dZ1, axis=1, keepdims=True)\n",
    "    \n",
    "    W2 = W2 - learning_rate * dW2 + weight_decay * W2\n",
    "    b2 = b2 - learning_rate * db2\n",
    "    W1 = W1 - learning_rate * dW1 + weight_decay * W1\n",
    "    b1 = b1 - learning_rate * db1\n",
    "    \n",
    "    if i % 10 == 0:\n",
    "        print(f'#Epoch {i}, cost = {cost}')\n",
    "        \n",
    "plt.plot(costPlot)\n",
    "plt.xlabel('Epoch')\n",
    "plt.ylabel('Cost')\n",
    "plt.show()"
   ]
  },
  {
   "cell_type": "code",
   "execution_count": 86,
   "metadata": {},
   "outputs": [],
   "source": [
    "# Now, again using value of W and b that are obtained to test the data.\n",
    "\n",
    "Z1 = np.matmul(W1, inputData_test.T) + b1\n",
    "A1 = relu(Z1)\n",
    "Z2 = np.matmul(W2, A1) + b2\n",
    "\n",
    "pred = np.argmax(Z2, axis=0)\n",
    "label = np.argmax(y_test.T, axis=0)"
   ]
  },
  {
   "cell_type": "code",
   "execution_count": 87,
   "metadata": {},
   "outputs": [
    {
     "name": "stdout",
     "output_type": "stream",
     "text": [
      "[[ 964    0    9    1    1    7   12    1    3    8]\n",
      " [   0 1115    2    0    1    1    3    7    3    7]\n",
      " [   0    2  976   10    6    0    2   21    5    0]\n",
      " [   0    3    7  964    0   25    0    6   15   10]\n",
      " [   0    0    9    0  935    2    7    4    5   22]\n",
      " [   5    0    0   13    0  828    9    0    7    5]\n",
      " [   8    3   10    0    8   10  921    0   10    1]\n",
      " [   1    2    8    9    3    3    1  967    7    7]\n",
      " [   2   10   11   10    5   10    3    1  913    4]\n",
      " [   0    0    0    3   23    6    0   21    6  945]]\n",
      "              precision    recall  f1-score   support\n",
      "\n",
      "           0       0.98      0.96      0.97      1006\n",
      "           1       0.98      0.98      0.98      1139\n",
      "           2       0.95      0.95      0.95      1022\n",
      "           3       0.95      0.94      0.95      1030\n",
      "           4       0.95      0.95      0.95       984\n",
      "           5       0.93      0.96      0.94       867\n",
      "           6       0.96      0.95      0.95       971\n",
      "           7       0.94      0.96      0.95      1008\n",
      "           8       0.94      0.94      0.94       969\n",
      "           9       0.94      0.94      0.94      1004\n",
      "\n",
      "    accuracy                           0.95     10000\n",
      "   macro avg       0.95      0.95      0.95     10000\n",
      "weighted avg       0.95      0.95      0.95     10000\n",
      "\n"
     ]
    }
   ],
   "source": [
    "# Printing Confusion matix and classification report.\n",
    "print(confusion_matrix(pred, label))\n",
    "print(classification_report(pred, label))"
   ]
  },
  {
   "cell_type": "code",
   "execution_count": null,
   "metadata": {},
   "outputs": [],
   "source": []
  }
 ],
 "metadata": {
  "kernelspec": {
   "display_name": "Python 3",
   "language": "python",
   "name": "python3"
  },
  "language_info": {
   "codemirror_mode": {
    "name": "ipython",
    "version": 3
   },
   "file_extension": ".py",
   "mimetype": "text/x-python",
   "name": "python",
   "nbconvert_exporter": "python",
   "pygments_lexer": "ipython3",
   "version": "3.7.6"
  }
 },
 "nbformat": 4,
 "nbformat_minor": 4
}
